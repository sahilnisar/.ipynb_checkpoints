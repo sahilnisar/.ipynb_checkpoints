{
 "cells": [
  {
   "cell_type": "code",
   "execution_count": 168,
   "metadata": {},
   "outputs": [],
   "source": [
    "import pandas as pd\n",
    "import numpy as np\n",
    "from pandas import read_csv\n",
    "from matplotlib import pyplot as plt\n"
   ]
  },
  {
   "cell_type": "code",
   "execution_count": 223,
   "metadata": {},
   "outputs": [
    {
     "data": {
      "text/html": [
       "<div>\n",
       "<style scoped>\n",
       "    .dataframe tbody tr th:only-of-type {\n",
       "        vertical-align: middle;\n",
       "    }\n",
       "\n",
       "    .dataframe tbody tr th {\n",
       "        vertical-align: top;\n",
       "    }\n",
       "\n",
       "    .dataframe thead th {\n",
       "        text-align: right;\n",
       "    }\n",
       "</style>\n",
       "<table border=\"1\" class=\"dataframe\">\n",
       "  <thead>\n",
       "    <tr style=\"text-align: right;\">\n",
       "      <th></th>\n",
       "      <th>GDPC1</th>\n",
       "      <th>Log_GDP</th>\n",
       "    </tr>\n",
       "    <tr>\n",
       "      <th>DATE</th>\n",
       "      <th></th>\n",
       "      <th></th>\n",
       "    </tr>\n",
       "  </thead>\n",
       "  <tbody>\n",
       "    <tr>\n",
       "      <th>1/1/1947</th>\n",
       "      <td>2034.450</td>\n",
       "      <td>3.308447</td>\n",
       "    </tr>\n",
       "    <tr>\n",
       "      <th>4/1/1947</th>\n",
       "      <td>2029.024</td>\n",
       "      <td>3.307287</td>\n",
       "    </tr>\n",
       "    <tr>\n",
       "      <th>7/1/1947</th>\n",
       "      <td>2024.834</td>\n",
       "      <td>3.306389</td>\n",
       "    </tr>\n",
       "    <tr>\n",
       "      <th>10/1/1947</th>\n",
       "      <td>2056.508</td>\n",
       "      <td>3.313130</td>\n",
       "    </tr>\n",
       "    <tr>\n",
       "      <th>1/1/1948</th>\n",
       "      <td>2087.442</td>\n",
       "      <td>3.319614</td>\n",
       "    </tr>\n",
       "    <tr>\n",
       "      <th>...</th>\n",
       "      <td>...</td>\n",
       "      <td>...</td>\n",
       "    </tr>\n",
       "    <tr>\n",
       "      <th>10/1/2020</th>\n",
       "      <td>18767.778</td>\n",
       "      <td>4.273413</td>\n",
       "    </tr>\n",
       "    <tr>\n",
       "      <th>1/1/2021</th>\n",
       "      <td>19055.655</td>\n",
       "      <td>4.280024</td>\n",
       "    </tr>\n",
       "    <tr>\n",
       "      <th>4/1/2021</th>\n",
       "      <td>19368.310</td>\n",
       "      <td>4.287092</td>\n",
       "    </tr>\n",
       "    <tr>\n",
       "      <th>7/1/2021</th>\n",
       "      <td>19478.893</td>\n",
       "      <td>4.289564</td>\n",
       "    </tr>\n",
       "    <tr>\n",
       "      <th>10/1/2021</th>\n",
       "      <td>19810.572</td>\n",
       "      <td>4.296897</td>\n",
       "    </tr>\n",
       "  </tbody>\n",
       "</table>\n",
       "<p>300 rows × 2 columns</p>\n",
       "</div>"
      ],
      "text/plain": [
       "               GDPC1   Log_GDP\n",
       "DATE                          \n",
       "1/1/1947    2034.450  3.308447\n",
       "4/1/1947    2029.024  3.307287\n",
       "7/1/1947    2024.834  3.306389\n",
       "10/1/1947   2056.508  3.313130\n",
       "1/1/1948    2087.442  3.319614\n",
       "...              ...       ...\n",
       "10/1/2020  18767.778  4.273413\n",
       "1/1/2021   19055.655  4.280024\n",
       "4/1/2021   19368.310  4.287092\n",
       "7/1/2021   19478.893  4.289564\n",
       "10/1/2021  19810.572  4.296897\n",
       "\n",
       "[300 rows x 2 columns]"
      ]
     },
     "execution_count": 223,
     "metadata": {},
     "output_type": "execute_result"
    }
   ],
   "source": [
    "data = read_csv('US_Quarterly_GDP.csv', header=0, index_col=0)\n",
    "data\n"
   ]
  },
  {
   "cell_type": "code",
   "execution_count": 225,
   "metadata": {},
   "outputs": [
    {
     "data": {
      "text/plain": [
       "<AxesSubplot:xlabel='DATE'>"
      ]
     },
     "execution_count": 225,
     "metadata": {},
     "output_type": "execute_result"
    },
    {
     "data": {
      "image/png": "[encoded data removed]",
      "text/plain": [
       "<Figure size 1080x720 with 1 Axes>"
      ]
     },
     "metadata": {
      "needs_background": "light"
     },
     "output_type": "display_data"
    }
   ],
   "source": [
    "fig, ax=plt.subplots(figsize=(15,10))\n",
    "data['Log_GDP'].plot(ax=ax)"
   ]
  },
  {
   "cell_type": "code",
   "execution_count": 170,
   "metadata": {},
   "outputs": [
    {
     "name": "stdout",
     "output_type": "stream",
     "text": [
      "<class 'pandas.core.frame.DataFrame'>\n",
      "Index: 300 entries, 1/1/1947 to 10/1/2021\n",
      "Data columns (total 2 columns):\n",
      " #   Column   Non-Null Count  Dtype  \n",
      "---  ------   --------------  -----  \n",
      " 0   GDPC1    300 non-null    float64\n",
      " 1   Log_GDP  300 non-null    float64\n",
      "dtypes: float64(2)\n",
      "memory usage: 7.0+ KB\n"
     ]
    }
   ],
   "source": [
    "data.info()"
   ]
  },
  {
   "cell_type": "code",
   "execution_count": 171,
   "metadata": {},
   "outputs": [],
   "source": [
    "data=data.drop(columns=['GDPC1'])\n"
   ]
  },
  {
   "cell_type": "code",
   "execution_count": 173,
   "metadata": {},
   "outputs": [
    {
     "name": "stdout",
     "output_type": "stream",
     "text": [
      "P-value:  0.1170648275792735\n"
     ]
    }
   ],
   "source": [
    "from statsmodels.tsa.stattools import adfuller\n",
    "df_stationarityTest = adfuller(data, autolag='AIC')\n",
    "\n",
    "# Check the value of p-value\n",
    "\n",
    "print(\"P-value: \", df_stationarityTest[1])"
   ]
  },
  {
   "cell_type": "markdown",
   "metadata": {},
   "source": [
    "P value is not less that 0.05, so series is non-stationary "
   ]
  },
  {
   "cell_type": "code",
   "execution_count": 181,
   "metadata": {},
   "outputs": [],
   "source": [
    "#take first diff to get rid of stationarity in the data \n",
    "data['diff'] = data['Log_GDP'] - data['Log_GDP'].shift(4) "
   ]
  },
  {
   "cell_type": "code",
   "execution_count": 222,
   "metadata": {},
   "outputs": [
    {
     "data": {
      "text/html": [
       "<div>\n",
       "<style scoped>\n",
       "    .dataframe tbody tr th:only-of-type {\n",
       "        vertical-align: middle;\n",
       "    }\n",
       "\n",
       "    .dataframe tbody tr th {\n",
       "        vertical-align: top;\n",
       "    }\n",
       "\n",
       "    .dataframe thead th {\n",
       "        text-align: right;\n",
       "    }\n",
       "</style>\n",
       "<table border=\"1\" class=\"dataframe\">\n",
       "  <thead>\n",
       "    <tr style=\"text-align: right;\">\n",
       "      <th></th>\n",
       "      <th>Log_GDP</th>\n",
       "      <th>diff</th>\n",
       "    </tr>\n",
       "    <tr>\n",
       "      <th>DATE</th>\n",
       "      <th></th>\n",
       "      <th></th>\n",
       "    </tr>\n",
       "  </thead>\n",
       "  <tbody>\n",
       "    <tr>\n",
       "      <th>1/1/1947</th>\n",
       "      <td>3.308447</td>\n",
       "      <td>NaN</td>\n",
       "    </tr>\n",
       "    <tr>\n",
       "      <th>4/1/1947</th>\n",
       "      <td>3.307287</td>\n",
       "      <td>NaN</td>\n",
       "    </tr>\n",
       "    <tr>\n",
       "      <th>7/1/1947</th>\n",
       "      <td>3.306389</td>\n",
       "      <td>NaN</td>\n",
       "    </tr>\n",
       "    <tr>\n",
       "      <th>10/1/1947</th>\n",
       "      <td>3.313130</td>\n",
       "      <td>NaN</td>\n",
       "    </tr>\n",
       "    <tr>\n",
       "      <th>1/1/1948</th>\n",
       "      <td>3.319614</td>\n",
       "      <td>0.011167</td>\n",
       "    </tr>\n",
       "    <tr>\n",
       "      <th>4/1/1948</th>\n",
       "      <td>3.326725</td>\n",
       "      <td>0.019438</td>\n",
       "    </tr>\n",
       "    <tr>\n",
       "      <th>7/1/1948</th>\n",
       "      <td>3.329206</td>\n",
       "      <td>0.022816</td>\n",
       "    </tr>\n",
       "    <tr>\n",
       "      <th>10/1/1948</th>\n",
       "      <td>3.329691</td>\n",
       "      <td>0.016560</td>\n",
       "    </tr>\n",
       "    <tr>\n",
       "      <th>1/1/1949</th>\n",
       "      <td>3.323665</td>\n",
       "      <td>0.004050</td>\n",
       "    </tr>\n",
       "    <tr>\n",
       "      <th>4/1/1949</th>\n",
       "      <td>3.322181</td>\n",
       "      <td>-0.004544</td>\n",
       "    </tr>\n",
       "    <tr>\n",
       "      <th>7/1/1949</th>\n",
       "      <td>3.326642</td>\n",
       "      <td>-0.002564</td>\n",
       "    </tr>\n",
       "    <tr>\n",
       "      <th>10/1/1949</th>\n",
       "      <td>3.322981</td>\n",
       "      <td>-0.006709</td>\n",
       "    </tr>\n",
       "    <tr>\n",
       "      <th>1/1/1950</th>\n",
       "      <td>3.339723</td>\n",
       "      <td>0.016058</td>\n",
       "    </tr>\n",
       "    <tr>\n",
       "      <th>4/1/1950</th>\n",
       "      <td>3.352770</td>\n",
       "      <td>0.030589</td>\n",
       "    </tr>\n",
       "    <tr>\n",
       "      <th>7/1/1950</th>\n",
       "      <td>3.369237</td>\n",
       "      <td>0.042595</td>\n",
       "    </tr>\n",
       "    <tr>\n",
       "      <th>10/1/1950</th>\n",
       "      <td>3.377474</td>\n",
       "      <td>0.054492</td>\n",
       "    </tr>\n",
       "    <tr>\n",
       "      <th>1/1/1951</th>\n",
       "      <td>3.383333</td>\n",
       "      <td>0.043610</td>\n",
       "    </tr>\n",
       "    <tr>\n",
       "      <th>4/1/1951</th>\n",
       "      <td>3.390793</td>\n",
       "      <td>0.038023</td>\n",
       "    </tr>\n",
       "    <tr>\n",
       "      <th>7/1/1951</th>\n",
       "      <td>3.399653</td>\n",
       "      <td>0.030416</td>\n",
       "    </tr>\n",
       "    <tr>\n",
       "      <th>10/1/1951</th>\n",
       "      <td>3.400608</td>\n",
       "      <td>0.023135</td>\n",
       "    </tr>\n",
       "  </tbody>\n",
       "</table>\n",
       "</div>"
      ],
      "text/plain": [
       "            Log_GDP      diff\n",
       "DATE                         \n",
       "1/1/1947   3.308447       NaN\n",
       "4/1/1947   3.307287       NaN\n",
       "7/1/1947   3.306389       NaN\n",
       "10/1/1947  3.313130       NaN\n",
       "1/1/1948   3.319614  0.011167\n",
       "4/1/1948   3.326725  0.019438\n",
       "7/1/1948   3.329206  0.022816\n",
       "10/1/1948  3.329691  0.016560\n",
       "1/1/1949   3.323665  0.004050\n",
       "4/1/1949   3.322181 -0.004544\n",
       "7/1/1949   3.326642 -0.002564\n",
       "10/1/1949  3.322981 -0.006709\n",
       "1/1/1950   3.339723  0.016058\n",
       "4/1/1950   3.352770  0.030589\n",
       "7/1/1950   3.369237  0.042595\n",
       "10/1/1950  3.377474  0.054492\n",
       "1/1/1951   3.383333  0.043610\n",
       "4/1/1951   3.390793  0.038023\n",
       "7/1/1951   3.399653  0.030416\n",
       "10/1/1951  3.400608  0.023135"
      ]
     },
     "execution_count": 222,
     "metadata": {},
     "output_type": "execute_result"
    }
   ],
   "source": [
    "data.head(20)"
   ]
  },
  {
   "cell_type": "code",
   "execution_count": 178,
   "metadata": {},
   "outputs": [],
   "source": [
    "data2=data"
   ]
  },
  {
   "cell_type": "code",
   "execution_count": 183,
   "metadata": {},
   "outputs": [],
   "source": [
    "data2 = data2.iloc[4: , :] #getting rid of NaN"
   ]
  },
  {
   "cell_type": "code",
   "execution_count": 184,
   "metadata": {},
   "outputs": [
    {
     "data": {
      "text/html": [
       "<div>\n",
       "<style scoped>\n",
       "    .dataframe tbody tr th:only-of-type {\n",
       "        vertical-align: middle;\n",
       "    }\n",
       "\n",
       "    .dataframe tbody tr th {\n",
       "        vertical-align: top;\n",
       "    }\n",
       "\n",
       "    .dataframe thead th {\n",
       "        text-align: right;\n",
       "    }\n",
       "</style>\n",
       "<table border=\"1\" class=\"dataframe\">\n",
       "  <thead>\n",
       "    <tr style=\"text-align: right;\">\n",
       "      <th></th>\n",
       "      <th>Log_GDP</th>\n",
       "      <th>diff</th>\n",
       "    </tr>\n",
       "    <tr>\n",
       "      <th>DATE</th>\n",
       "      <th></th>\n",
       "      <th></th>\n",
       "    </tr>\n",
       "  </thead>\n",
       "  <tbody>\n",
       "    <tr>\n",
       "      <th>4/1/1948</th>\n",
       "      <td>3.326725</td>\n",
       "      <td>0.019438</td>\n",
       "    </tr>\n",
       "    <tr>\n",
       "      <th>7/1/1948</th>\n",
       "      <td>3.329206</td>\n",
       "      <td>0.022816</td>\n",
       "    </tr>\n",
       "    <tr>\n",
       "      <th>10/1/1948</th>\n",
       "      <td>3.329691</td>\n",
       "      <td>0.016560</td>\n",
       "    </tr>\n",
       "    <tr>\n",
       "      <th>1/1/1949</th>\n",
       "      <td>3.323665</td>\n",
       "      <td>0.004050</td>\n",
       "    </tr>\n",
       "    <tr>\n",
       "      <th>4/1/1949</th>\n",
       "      <td>3.322181</td>\n",
       "      <td>-0.004544</td>\n",
       "    </tr>\n",
       "    <tr>\n",
       "      <th>...</th>\n",
       "      <td>...</td>\n",
       "      <td>...</td>\n",
       "    </tr>\n",
       "    <tr>\n",
       "      <th>10/1/2020</th>\n",
       "      <td>4.273413</td>\n",
       "      <td>-0.009941</td>\n",
       "    </tr>\n",
       "    <tr>\n",
       "      <th>1/1/2021</th>\n",
       "      <td>4.280024</td>\n",
       "      <td>0.002369</td>\n",
       "    </tr>\n",
       "    <tr>\n",
       "      <th>4/1/2021</th>\n",
       "      <td>4.287092</td>\n",
       "      <td>0.050096</td>\n",
       "    </tr>\n",
       "    <tr>\n",
       "      <th>7/1/2021</th>\n",
       "      <td>4.289564</td>\n",
       "      <td>0.020968</td>\n",
       "    </tr>\n",
       "    <tr>\n",
       "      <th>10/1/2021</th>\n",
       "      <td>4.296897</td>\n",
       "      <td>0.023484</td>\n",
       "    </tr>\n",
       "  </tbody>\n",
       "</table>\n",
       "<p>295 rows × 2 columns</p>\n",
       "</div>"
      ],
      "text/plain": [
       "            Log_GDP      diff\n",
       "DATE                         \n",
       "4/1/1948   3.326725  0.019438\n",
       "7/1/1948   3.329206  0.022816\n",
       "10/1/1948  3.329691  0.016560\n",
       "1/1/1949   3.323665  0.004050\n",
       "4/1/1949   3.322181 -0.004544\n",
       "...             ...       ...\n",
       "10/1/2020  4.273413 -0.009941\n",
       "1/1/2021   4.280024  0.002369\n",
       "4/1/2021   4.287092  0.050096\n",
       "7/1/2021   4.289564  0.020968\n",
       "10/1/2021  4.296897  0.023484\n",
       "\n",
       "[295 rows x 2 columns]"
      ]
     },
     "execution_count": 184,
     "metadata": {},
     "output_type": "execute_result"
    }
   ],
   "source": [
    "data2"
   ]
  },
  {
   "cell_type": "code",
   "execution_count": 185,
   "metadata": {},
   "outputs": [
    {
     "name": "stdout",
     "output_type": "stream",
     "text": [
      "P-value:  0.003084064263479026\n"
     ]
    }
   ],
   "source": [
    "df_stationarityTest_2 = adfuller(data2['diff'], autolag='AIC')\n",
    "\n",
    "# Check the value of p-value\n",
    "\n",
    "print(\"P-value: \", df_stationarityTest_2[1])"
   ]
  },
  {
   "cell_type": "markdown",
   "metadata": {},
   "source": [
    " P-value is less than 0.05, the data is stationary now"
   ]
  },
  {
   "cell_type": "code",
   "execution_count": 186,
   "metadata": {},
   "outputs": [],
   "source": [
    "data2=data2.drop(columns=['Log_GDP'])\n"
   ]
  },
  {
   "cell_type": "code",
   "execution_count": 200,
   "metadata": {},
   "outputs": [
    {
     "data": {
      "text/html": [
       "<div>\n",
       "<style scoped>\n",
       "    .dataframe tbody tr th:only-of-type {\n",
       "        vertical-align: middle;\n",
       "    }\n",
       "\n",
       "    .dataframe tbody tr th {\n",
       "        vertical-align: top;\n",
       "    }\n",
       "\n",
       "    .dataframe thead th {\n",
       "        text-align: right;\n",
       "    }\n",
       "</style>\n",
       "<table border=\"1\" class=\"dataframe\">\n",
       "  <thead>\n",
       "    <tr style=\"text-align: right;\">\n",
       "      <th></th>\n",
       "      <th>diff</th>\n",
       "    </tr>\n",
       "    <tr>\n",
       "      <th>DATE</th>\n",
       "      <th></th>\n",
       "    </tr>\n",
       "  </thead>\n",
       "  <tbody>\n",
       "    <tr>\n",
       "      <th>4/1/1948</th>\n",
       "      <td>0.019438</td>\n",
       "    </tr>\n",
       "    <tr>\n",
       "      <th>7/1/1948</th>\n",
       "      <td>0.022816</td>\n",
       "    </tr>\n",
       "    <tr>\n",
       "      <th>10/1/1948</th>\n",
       "      <td>0.016560</td>\n",
       "    </tr>\n",
       "    <tr>\n",
       "      <th>1/1/1949</th>\n",
       "      <td>0.004050</td>\n",
       "    </tr>\n",
       "    <tr>\n",
       "      <th>4/1/1949</th>\n",
       "      <td>-0.004544</td>\n",
       "    </tr>\n",
       "    <tr>\n",
       "      <th>...</th>\n",
       "      <td>...</td>\n",
       "    </tr>\n",
       "    <tr>\n",
       "      <th>10/1/2020</th>\n",
       "      <td>-0.009941</td>\n",
       "    </tr>\n",
       "    <tr>\n",
       "      <th>1/1/2021</th>\n",
       "      <td>0.002369</td>\n",
       "    </tr>\n",
       "    <tr>\n",
       "      <th>4/1/2021</th>\n",
       "      <td>0.050096</td>\n",
       "    </tr>\n",
       "    <tr>\n",
       "      <th>7/1/2021</th>\n",
       "      <td>0.020968</td>\n",
       "    </tr>\n",
       "    <tr>\n",
       "      <th>10/1/2021</th>\n",
       "      <td>0.023484</td>\n",
       "    </tr>\n",
       "  </tbody>\n",
       "</table>\n",
       "<p>295 rows × 1 columns</p>\n",
       "</div>"
      ],
      "text/plain": [
       "               diff\n",
       "DATE               \n",
       "4/1/1948   0.019438\n",
       "7/1/1948   0.022816\n",
       "10/1/1948  0.016560\n",
       "1/1/1949   0.004050\n",
       "4/1/1949  -0.004544\n",
       "...             ...\n",
       "10/1/2020 -0.009941\n",
       "1/1/2021   0.002369\n",
       "4/1/2021   0.050096\n",
       "7/1/2021   0.020968\n",
       "10/1/2021  0.023484\n",
       "\n",
       "[295 rows x 1 columns]"
      ]
     },
     "execution_count": 200,
     "metadata": {},
     "output_type": "execute_result"
    }
   ],
   "source": [
    "data2"
   ]
  },
  {
   "cell_type": "code",
   "execution_count": 187,
   "metadata": {},
   "outputs": [
    {
     "data": {
      "image/png": "[encoded data removed]",
      "text/plain": [
       "<Figure size 1152x576 with 1 Axes>"
      ]
     },
     "metadata": {
      "needs_background": "light"
     },
     "output_type": "display_data"
    }
   ],
   "source": [
    "#checking acf to see how growth rate depends on its lagged values\n",
    "from statsmodels.graphics.tsaplots import plot_acf\n",
    "fig, ax= plt.subplots(figsize=(16,8))\n",
    "plot_acf(data2, lags=100, ax=ax)\n",
    "plt.show()"
   ]
  },
  {
   "cell_type": "code",
   "execution_count": 234,
   "metadata": {},
   "outputs": [
    {
     "name": "stdout",
     "output_type": "stream",
     "text": [
      "                            AutoReg Model Results                             \n",
      "==============================================================================\n",
      "Dep. Variable:                   diff   No. Observations:                  245\n",
      "Model:                     AutoReg(3)   Log Likelihood                 935.795\n",
      "Method:               Conditional MLE   S.D. of innovations              0.005\n",
      "Date:                Thu, 24 Feb 2022   AIC                            -10.530\n",
      "Time:                        19:44:18   BIC                            -10.458\n",
      "Sample:                    01-01-1949   HQIC                           -10.501\n",
      "                         - 04-01-2009                                         \n",
      "==============================================================================\n",
      "                 coef    std err          z      P>|z|      [0.025      0.975]\n",
      "------------------------------------------------------------------------------\n",
      "intercept      0.0039      0.001      6.512      0.000       0.003       0.005\n",
      "diff.L1        1.1928      0.063     18.893      0.000       1.069       1.317\n",
      "diff.L2       -0.2630      0.098     -2.693      0.007      -0.454      -0.072\n",
      "diff.L3       -0.2020      0.064     -3.158      0.002      -0.327      -0.077\n",
      "                                    Roots                                    \n",
      "=============================================================================\n",
      "                  Real          Imaginary           Modulus         Frequency\n",
      "-----------------------------------------------------------------------------\n",
      "AR.1            1.0682           -0.5468j            1.2000           -0.0753\n",
      "AR.2            1.0682           +0.5468j            1.2000            0.0753\n",
      "AR.3           -3.4387           -0.0000j            3.4387           -0.5000\n",
      "-----------------------------------------------------------------------------\n"
     ]
    },
    {
     "name": "stderr",
     "output_type": "stream",
     "text": [
      "/opt/anaconda3/lib/python3.8/site-packages/statsmodels/tsa/base/tsa_model.py:524: ValueWarning: No frequency information was provided, so inferred frequency QS-OCT will be used.\n",
      "  warnings.warn('No frequency information was'\n",
      "/opt/anaconda3/lib/python3.8/site-packages/statsmodels/tsa/ar_model.py:248: FutureWarning: The parameter names will change after 0.12 is released. Set old_names to False to use the new names now. Set old_names to True to use the old names. \n",
      "  warnings.warn(\n"
     ]
    }
   ],
   "source": [
    "from statsmodels.tsa.ar_model import AutoReg\n",
    "\n",
    "\n",
    "train_data = data2[:len(data2)-50]\n",
    "test_data = data2[len(data2)-50:]\n",
    "\n",
    "# fit the AR model with training data\n",
    "\n",
    "ar_model = AutoReg(train_data, lags=3).fit()\n",
    "\n",
    "#Print Summary\n",
    "\n",
    "print(ar_model.summary())"
   ]
  },
  {
   "cell_type": "code",
   "execution_count": null,
   "metadata": {},
   "outputs": [],
   "source": [
    "test_data"
   ]
  },
  {
   "cell_type": "code",
   "execution_count": 235,
   "metadata": {},
   "outputs": [
    {
     "name": "stderr",
     "output_type": "stream",
     "text": [
      "/opt/anaconda3/lib/python3.8/site-packages/statsmodels/tsa/deterministic.py:147: UserWarning: Only PeriodIndexes, DatetimeIndexes with a frequency set, RangesIndexes, and Int64Indexes with a unit increment support extending. The index is set will contain the position relative to the data length.\n",
      "  warnings.warn(\n"
     ]
    }
   ],
   "source": [
    "pred = ar_model.predict(start=len(train_data), end=(len(data2)-1), dynamic=False)\n",
    "\n"
   ]
  },
  {
   "cell_type": "code",
   "execution_count": 236,
   "metadata": {},
   "outputs": [],
   "source": [
    "pred=pd.DataFrame(pred)\n",
    "pred=pred.rename(columns={0: \"prediction\"})\n",
    "pred=pred.reset_index().rename(columns={'index':'Date'})\n",
    "\n",
    "test_data1=test_data\n",
    "test_data1=test_data1.reset_index()\n",
    "\n",
    "test_data1['DATE']= pd.to_datetime(test_data1['DATE'])\n"
   ]
  },
  {
   "cell_type": "code",
   "execution_count": null,
   "metadata": {},
   "outputs": [],
   "source": [
    "pred"
   ]
  },
  {
   "cell_type": "code",
   "execution_count": 237,
   "metadata": {},
   "outputs": [],
   "source": [
    "pred=pred.set_index('Date')\n",
    "test_data1=test_data1.set_index('DATE')\n"
   ]
  },
  {
   "cell_type": "code",
   "execution_count": null,
   "metadata": {},
   "outputs": [],
   "source": [
    "test_data1"
   ]
  },
  {
   "cell_type": "code",
   "execution_count": null,
   "metadata": {},
   "outputs": [],
   "source": [
    "pred"
   ]
  },
  {
   "cell_type": "code",
   "execution_count": 238,
   "metadata": {},
   "outputs": [
    {
     "data": {
      "image/png": "[encoded data removed]",
      "text/plain": [
       "<Figure size 1080x576 with 1 Axes>"
      ]
     },
     "metadata": {
      "needs_background": "light"
     },
     "output_type": "display_data"
    }
   ],
   "source": [
    "# Plot the prediction vs test data\n",
    "\n",
    "fig = plt.subplots(figsize=(15,8))\n",
    "plt.plot(pred, color=\"green\")\n",
    "plt.plot(test_data1,color=\"blue\")\n",
    "plt.show()\n"
   ]
  },
  {
   "cell_type": "code",
   "execution_count": 241,
   "metadata": {},
   "outputs": [
    {
     "name": "stdout",
     "output_type": "stream",
     "text": [
      "Test RMSE: 0.0001539\n"
     ]
    }
   ],
   "source": [
    "from sklearn.metrics import mean_squared_error\n",
    "from math import sqrt\n",
    "rmse = (mean_squared_error(test_data1, pred))\n",
    "print('Test RMSE: %.7f'  % rmse)"
   ]
  },
  {
   "cell_type": "code",
   "execution_count": null,
   "metadata": {},
   "outputs": [],
   "source": []
  },
  {
   "cell_type": "code",
   "execution_count": null,
   "metadata": {},
   "outputs": [],
   "source": []
  },
  {
   "cell_type": "code",
   "execution_count": null,
   "metadata": {},
   "outputs": [],
   "source": []
  },
  {
   "cell_type": "code",
   "execution_count": null,
   "metadata": {},
   "outputs": [],
   "source": []
  },
  {
   "cell_type": "code",
   "execution_count": null,
   "metadata": {},
   "outputs": [],
   "source": []
  },
  {
   "cell_type": "code",
   "execution_count": null,
   "metadata": {},
   "outputs": [],
   "source": []
  },
  {
   "cell_type": "code",
   "execution_count": null,
   "metadata": {},
   "outputs": [],
   "source": []
  },
  {
   "cell_type": "code",
   "execution_count": null,
   "metadata": {},
   "outputs": [],
   "source": []
  },
  {
   "cell_type": "code",
   "execution_count": null,
   "metadata": {},
   "outputs": [],
   "source": []
  },
  {
   "cell_type": "code",
   "execution_count": 21,
   "metadata": {},
   "outputs": [
    {
     "name": "stdout",
     "output_type": "stream",
     "text": [
      "                            AutoReg Model Results                             \n",
      "==============================================================================\n",
      "Dep. Variable:                Log_GDP   No. Observations:                  200\n",
      "Model:                    AutoReg(50)   Log Likelihood                 652.504\n",
      "Method:               Conditional MLE   S.D. of innovations              0.003\n",
      "Date:                Thu, 24 Feb 2022   AIC                            -10.845\n",
      "Time:                        18:18:19   BIC                             -9.801\n",
      "Sample:                    07-01-1959   HQIC                           -10.421\n",
      "                         - 10-01-1996                                         \n",
      "===============================================================================\n",
      "                  coef    std err          z      P>|z|      [0.025      0.975]\n",
      "-------------------------------------------------------------------------------\n",
      "intercept       0.0225      0.010      2.360      0.018       0.004       0.041\n",
      "Log_GDP.L1      1.2566      0.082     15.388      0.000       1.097       1.417\n",
      "Log_GDP.L2     -0.1428      0.131     -1.089      0.276      -0.400       0.114\n",
      "Log_GDP.L3     -0.1674      0.131     -1.279      0.201      -0.424       0.089\n",
      "Log_GDP.L4      0.1539      0.130      1.181      0.238      -0.102       0.409\n",
      "Log_GDP.L5     -0.2965      0.130     -2.272      0.023      -0.552      -0.041\n",
      "Log_GDP.L6      0.2555      0.131      1.957      0.050      -0.000       0.511\n",
      "Log_GDP.L7     -0.1896      0.131     -1.445      0.148      -0.447       0.068\n",
      "Log_GDP.L8     -0.0390      0.125     -0.312      0.755      -0.284       0.206\n",
      "Log_GDP.L9      0.2147      0.119      1.809      0.070      -0.018       0.447\n",
      "Log_GDP.L10     0.0597      0.118      0.504      0.614      -0.172       0.292\n",
      "Log_GDP.L11    -0.1106      0.119     -0.933      0.351      -0.343       0.122\n",
      "Log_GDP.L12    -0.0567      0.118     -0.483      0.629      -0.287       0.174\n",
      "Log_GDP.L13    -0.0394      0.116     -0.338      0.735      -0.267       0.189\n",
      "Log_GDP.L14     0.0698      0.115      0.606      0.545      -0.156       0.295\n",
      "Log_GDP.L15    -0.1080      0.114     -0.947      0.344      -0.332       0.116\n",
      "Log_GDP.L16     0.1896      0.114      1.664      0.096      -0.034       0.413\n",
      "Log_GDP.L17    -0.0766      0.115     -0.668      0.504      -0.302       0.148\n",
      "Log_GDP.L18     0.0029      0.115      0.025      0.980      -0.222       0.228\n",
      "Log_GDP.L19    -0.0284      0.115     -0.247      0.805      -0.254       0.197\n",
      "Log_GDP.L20     0.0746      0.114      0.653      0.514      -0.149       0.299\n",
      "Log_GDP.L21    -0.0308      0.113     -0.273      0.785      -0.252       0.190\n",
      "Log_GDP.L22    -0.0422      0.113     -0.374      0.708      -0.263       0.179\n",
      "Log_GDP.L23    -0.0488      0.113     -0.432      0.665      -0.270       0.172\n",
      "Log_GDP.L24     0.1261      0.113      1.120      0.263      -0.095       0.347\n",
      "Log_GDP.L25    -0.0402      0.112     -0.359      0.720      -0.260       0.179\n",
      "Log_GDP.L26    -0.0552      0.112     -0.493      0.622      -0.275       0.164\n",
      "Log_GDP.L27     0.0868      0.112      0.775      0.439      -0.133       0.306\n",
      "Log_GDP.L28    -0.0106      0.111     -0.096      0.924      -0.228       0.207\n",
      "Log_GDP.L29     0.0794      0.111      0.713      0.476      -0.139       0.298\n",
      "Log_GDP.L30    -0.3096      0.111     -2.787      0.005      -0.527      -0.092\n",
      "Log_GDP.L31     0.2482      0.114      2.185      0.029       0.026       0.471\n",
      "Log_GDP.L32    -0.0761      0.115     -0.662      0.508      -0.302       0.149\n",
      "Log_GDP.L33    -0.0309      0.115     -0.268      0.789      -0.257       0.195\n",
      "Log_GDP.L34     0.1451      0.115      1.260      0.208      -0.081       0.371\n",
      "Log_GDP.L35    -0.1459      0.116     -1.263      0.207      -0.372       0.081\n",
      "Log_GDP.L36     0.0814      0.116      0.702      0.482      -0.146       0.309\n",
      "Log_GDP.L37    -0.0440      0.116     -0.380      0.704      -0.271       0.183\n",
      "Log_GDP.L38    -0.0865      0.115     -0.752      0.452      -0.312       0.139\n",
      "Log_GDP.L39     0.0900      0.110      0.815      0.415      -0.126       0.306\n",
      "Log_GDP.L40     0.0385      0.107      0.361      0.718      -0.171       0.248\n",
      "Log_GDP.L41    -0.0651      0.106     -0.612      0.541      -0.274       0.143\n",
      "Log_GDP.L42     0.2676      0.106      2.534      0.011       0.061       0.475\n",
      "Log_GDP.L43    -0.3246      0.107     -3.025      0.002      -0.535      -0.114\n",
      "Log_GDP.L44     0.0973      0.110      0.887      0.375      -0.118       0.312\n",
      "Log_GDP.L45     0.0326      0.108      0.300      0.764      -0.180       0.245\n",
      "Log_GDP.L46    -0.1096      0.108     -1.015      0.310      -0.321       0.102\n",
      "Log_GDP.L47     0.2140      0.108      1.975      0.048       0.002       0.426\n",
      "Log_GDP.L48    -0.1615      0.109     -1.479      0.139      -0.376       0.053\n",
      "Log_GDP.L49     0.0400      0.109      0.366      0.714      -0.174       0.254\n",
      "Log_GDP.L50     0.0084      0.066      0.128      0.898      -0.120       0.137\n",
      "                                    Roots                                     \n",
      "==============================================================================\n",
      "                   Real          Imaginary           Modulus         Frequency\n",
      "------------------------------------------------------------------------------\n",
      "AR.1            -0.9580           -0.3139j            1.0081           -0.4496\n",
      "AR.2            -0.9580           +0.3139j            1.0081            0.4496\n",
      "AR.3            -1.0532           -0.0361j            1.0539           -0.4945\n",
      "AR.4            -1.0532           +0.0361j            1.0539            0.4945\n",
      "AR.5            -1.0351           -0.1559j            1.0468           -0.4762\n",
      "AR.6            -1.0351           +0.1559j            1.0468            0.4762\n",
      "AR.7            -0.9262           -0.4600j            1.0341           -0.4266\n",
      "AR.8            -0.9262           +0.4600j            1.0341            0.4266\n",
      "AR.9            -0.8600           -0.5641j            1.0285           -0.4076\n",
      "AR.10           -0.8600           +0.5641j            1.0285            0.4076\n",
      "AR.11           -0.7403           -0.6878j            1.0105           -0.3808\n",
      "AR.12           -0.7403           +0.6878j            1.0105            0.3808\n",
      "AR.13           -0.6295           -0.8028j            1.0202           -0.3558\n",
      "AR.14           -0.6295           +0.8028j            1.0202            0.3558\n",
      "AR.15           -0.5247           -0.9075j            1.0483           -0.3334\n",
      "AR.16           -0.5247           +0.9075j            1.0483            0.3334\n",
      "AR.17           -0.4050           -0.9530j            1.0355           -0.3140\n",
      "AR.18           -0.4050           +0.9530j            1.0355            0.3140\n",
      "AR.19           -0.2496           -1.0067j            1.0372           -0.2887\n",
      "AR.20           -0.2496           +1.0067j            1.0372            0.2887\n",
      "AR.21           -0.2481           -1.0923j            1.1201           -0.2856\n",
      "AR.22           -0.2481           +1.0923j            1.1201            0.2856\n",
      "AR.23           -0.0217           -1.0709j            1.0711           -0.2532\n",
      "AR.24           -0.0217           +1.0709j            1.0711            0.2532\n",
      "AR.25            0.0711           -1.0524j            1.0548           -0.2393\n",
      "AR.26            0.0711           +1.0524j            1.0548            0.2393\n",
      "AR.27            0.2443           -1.0046j            1.0339           -0.2120\n",
      "AR.28            0.2443           +1.0046j            1.0339            0.2120\n",
      "AR.29            0.3700           -0.9570j            1.0260           -0.1913\n",
      "AR.30            0.3700           +0.9570j            1.0260            0.1913\n",
      "AR.31            0.4877           -0.9080j            1.0307           -0.1715\n",
      "AR.32            0.4877           +0.9080j            1.0307            0.1715\n",
      "AR.33            0.6351           -0.8122j            1.0310           -0.1444\n",
      "AR.34            0.6351           +0.8122j            1.0310            0.1444\n",
      "AR.35            0.7852           -0.6805j            1.0390           -0.1137\n",
      "AR.36            0.7852           +0.6805j            1.0390            0.1137\n",
      "AR.37            0.8607           -0.5823j            1.0392           -0.0947\n",
      "AR.38            0.8607           +0.5823j            1.0392            0.0947\n",
      "AR.39            0.9441           -0.4467j            1.0444           -0.0703\n",
      "AR.40            0.9441           +0.4467j            1.0444            0.0703\n",
      "AR.41            1.0023           -0.0000j            1.0023           -0.0000\n",
      "AR.42            1.0162           -0.1121j            1.0224           -0.0175\n",
      "AR.43            1.0162           +0.1121j            1.0224            0.0175\n",
      "AR.44            0.9950           -0.2645j            1.0295           -0.0414\n",
      "AR.45            0.9950           +0.2645j            1.0295            0.0414\n",
      "AR.46            1.1127           -0.3707j            1.1728           -0.0512\n",
      "AR.47            1.1127           +0.3707j            1.1728            0.0512\n",
      "AR.48            1.1045           -0.9246j            1.4405           -0.1109\n",
      "AR.49            1.1045           +0.9246j            1.4405            0.1109\n",
      "AR.50           -7.7175           -0.0000j            7.7175           -0.5000\n",
      "------------------------------------------------------------------------------\n"
     ]
    },
    {
     "name": "stderr",
     "output_type": "stream",
     "text": [
      "/opt/anaconda3/lib/python3.8/site-packages/statsmodels/tsa/base/tsa_model.py:524: ValueWarning: No frequency information was provided, so inferred frequency QS-OCT will be used.\n",
      "  warnings.warn('No frequency information was'\n",
      "/opt/anaconda3/lib/python3.8/site-packages/statsmodels/tsa/ar_model.py:248: FutureWarning: The parameter names will change after 0.12 is released. Set old_names to False to use the new names now. Set old_names to True to use the old names. \n",
      "  warnings.warn(\n"
     ]
    }
   ],
   "source": [
    "from statsmodels.tsa.ar_model import AutoReg\n",
    "\n",
    "\n",
    "train_data = data[:len(data)-100]\n",
    "test_data = data[len(data)-100:]\n",
    "\n",
    "# fit the AR model with training data\n",
    "\n",
    "ar_model = AutoReg(train_data, lags=50).fit()\n",
    "\n",
    "#Print Summary\n",
    "\n",
    "print(ar_model.summary())"
   ]
  },
  {
   "cell_type": "code",
   "execution_count": 22,
   "metadata": {},
   "outputs": [
    {
     "name": "stderr",
     "output_type": "stream",
     "text": [
      "/opt/anaconda3/lib/python3.8/site-packages/statsmodels/tsa/deterministic.py:147: UserWarning: Only PeriodIndexes, DatetimeIndexes with a frequency set, RangesIndexes, and Int64Indexes with a unit increment support extending. The index is set will contain the position relative to the data length.\n",
      "  warnings.warn(\n"
     ]
    },
    {
     "data": {
      "image/png": "[encoded data removed]",
      "text/plain": [
       "<Figure size 864x576 with 1 Axes>"
      ]
     },
     "metadata": {
      "needs_background": "light"
     },
     "output_type": "display_data"
    }
   ],
   "source": [
    "pred = ar_model.predict(start=len(train_data), end=(len(data)-1), dynamic=False)\n",
    "\n"
   ]
  },
  {
   "cell_type": "code",
   "execution_count": 37,
   "metadata": {},
   "outputs": [],
   "source": [
    "new=pd.DataFrame(pred)\n",
    "new=new.rename(columns={0: \"prediction\"})\n"
   ]
  },
  {
   "cell_type": "code",
   "execution_count": 41,
   "metadata": {},
   "outputs": [],
   "source": [
    "new.reset_index().rename(columns={'index':'Date'})"
   ]
  },
  {
   "cell_type": "code",
   "execution_count": 43,
   "metadata": {},
   "outputs": [
    {
     "name": "stdout",
     "output_type": "stream",
     "text": [
      "<class 'pandas.core.frame.DataFrame'>\n",
      "RangeIndex: 100 entries, 0 to 99\n",
      "Data columns (total 2 columns):\n",
      " #   Column      Non-Null Count  Dtype         \n",
      "---  ------      --------------  -----         \n",
      " 0   date        100 non-null    datetime64[ns]\n",
      " 1   prediction  100 non-null    float64       \n",
      "dtypes: datetime64[ns](1), float64(1)\n",
      "memory usage: 1.7 KB\n"
     ]
    }
   ],
   "source": [
    "new.info()"
   ]
  },
  {
   "cell_type": "code",
   "execution_count": 52,
   "metadata": {},
   "outputs": [],
   "source": [
    "test_data1=test_data"
   ]
  },
  {
   "cell_type": "code",
   "execution_count": 53,
   "metadata": {},
   "outputs": [
    {
     "data": {
      "text/html": [
       "<div>\n",
       "<style scoped>\n",
       "    .dataframe tbody tr th:only-of-type {\n",
       "        vertical-align: middle;\n",
       "    }\n",
       "\n",
       "    .dataframe tbody tr th {\n",
       "        vertical-align: top;\n",
       "    }\n",
       "\n",
       "    .dataframe thead th {\n",
       "        text-align: right;\n",
       "    }\n",
       "</style>\n",
       "<table border=\"1\" class=\"dataframe\">\n",
       "  <thead>\n",
       "    <tr style=\"text-align: right;\">\n",
       "      <th></th>\n",
       "      <th>DATE</th>\n",
       "      <th>Log_GDP</th>\n",
       "    </tr>\n",
       "  </thead>\n",
       "  <tbody>\n",
       "    <tr>\n",
       "      <th>0</th>\n",
       "      <td>1/1/1997</td>\n",
       "      <td>4.052758</td>\n",
       "    </tr>\n",
       "    <tr>\n",
       "      <th>1</th>\n",
       "      <td>4/1/1997</td>\n",
       "      <td>4.059917</td>\n",
       "    </tr>\n",
       "    <tr>\n",
       "      <th>2</th>\n",
       "      <td>7/1/1997</td>\n",
       "      <td>4.065315</td>\n",
       "    </tr>\n",
       "    <tr>\n",
       "      <th>3</th>\n",
       "      <td>10/1/1997</td>\n",
       "      <td>4.069028</td>\n",
       "    </tr>\n",
       "    <tr>\n",
       "      <th>4</th>\n",
       "      <td>1/1/1998</td>\n",
       "      <td>4.073347</td>\n",
       "    </tr>\n",
       "    <tr>\n",
       "      <th>...</th>\n",
       "      <td>...</td>\n",
       "      <td>...</td>\n",
       "    </tr>\n",
       "    <tr>\n",
       "      <th>95</th>\n",
       "      <td>10/1/2020</td>\n",
       "      <td>4.273413</td>\n",
       "    </tr>\n",
       "    <tr>\n",
       "      <th>96</th>\n",
       "      <td>1/1/2021</td>\n",
       "      <td>4.280024</td>\n",
       "    </tr>\n",
       "    <tr>\n",
       "      <th>97</th>\n",
       "      <td>4/1/2021</td>\n",
       "      <td>4.287092</td>\n",
       "    </tr>\n",
       "    <tr>\n",
       "      <th>98</th>\n",
       "      <td>7/1/2021</td>\n",
       "      <td>4.289564</td>\n",
       "    </tr>\n",
       "    <tr>\n",
       "      <th>99</th>\n",
       "      <td>10/1/2021</td>\n",
       "      <td>4.296897</td>\n",
       "    </tr>\n",
       "  </tbody>\n",
       "</table>\n",
       "<p>100 rows × 2 columns</p>\n",
       "</div>"
      ],
      "text/plain": [
       "         DATE   Log_GDP\n",
       "0    1/1/1997  4.052758\n",
       "1    4/1/1997  4.059917\n",
       "2    7/1/1997  4.065315\n",
       "3   10/1/1997  4.069028\n",
       "4    1/1/1998  4.073347\n",
       "..        ...       ...\n",
       "95  10/1/2020  4.273413\n",
       "96   1/1/2021  4.280024\n",
       "97   4/1/2021  4.287092\n",
       "98   7/1/2021  4.289564\n",
       "99  10/1/2021  4.296897\n",
       "\n",
       "[100 rows x 2 columns]"
      ]
     },
     "execution_count": 53,
     "metadata": {},
     "output_type": "execute_result"
    }
   ],
   "source": [
    "test_data1=test_data1.reset_index()\n",
    "test_data1"
   ]
  },
  {
   "cell_type": "code",
   "execution_count": 55,
   "metadata": {},
   "outputs": [],
   "source": [
    "test_data1['DATE']= pd.to_datetime(test_data1['DATE'])"
   ]
  },
  {
   "cell_type": "code",
   "execution_count": 56,
   "metadata": {},
   "outputs": [
    {
     "data": {
      "text/html": [
       "<div>\n",
       "<style scoped>\n",
       "    .dataframe tbody tr th:only-of-type {\n",
       "        vertical-align: middle;\n",
       "    }\n",
       "\n",
       "    .dataframe tbody tr th {\n",
       "        vertical-align: top;\n",
       "    }\n",
       "\n",
       "    .dataframe thead th {\n",
       "        text-align: right;\n",
       "    }\n",
       "</style>\n",
       "<table border=\"1\" class=\"dataframe\">\n",
       "  <thead>\n",
       "    <tr style=\"text-align: right;\">\n",
       "      <th></th>\n",
       "      <th>DATE</th>\n",
       "      <th>Log_GDP</th>\n",
       "    </tr>\n",
       "  </thead>\n",
       "  <tbody>\n",
       "    <tr>\n",
       "      <th>0</th>\n",
       "      <td>1997-01-01</td>\n",
       "      <td>4.052758</td>\n",
       "    </tr>\n",
       "    <tr>\n",
       "      <th>1</th>\n",
       "      <td>1997-04-01</td>\n",
       "      <td>4.059917</td>\n",
       "    </tr>\n",
       "    <tr>\n",
       "      <th>2</th>\n",
       "      <td>1997-07-01</td>\n",
       "      <td>4.065315</td>\n",
       "    </tr>\n",
       "    <tr>\n",
       "      <th>3</th>\n",
       "      <td>1997-10-01</td>\n",
       "      <td>4.069028</td>\n",
       "    </tr>\n",
       "    <tr>\n",
       "      <th>4</th>\n",
       "      <td>1998-01-01</td>\n",
       "      <td>4.073347</td>\n",
       "    </tr>\n",
       "    <tr>\n",
       "      <th>...</th>\n",
       "      <td>...</td>\n",
       "      <td>...</td>\n",
       "    </tr>\n",
       "    <tr>\n",
       "      <th>95</th>\n",
       "      <td>2020-10-01</td>\n",
       "      <td>4.273413</td>\n",
       "    </tr>\n",
       "    <tr>\n",
       "      <th>96</th>\n",
       "      <td>2021-01-01</td>\n",
       "      <td>4.280024</td>\n",
       "    </tr>\n",
       "    <tr>\n",
       "      <th>97</th>\n",
       "      <td>2021-04-01</td>\n",
       "      <td>4.287092</td>\n",
       "    </tr>\n",
       "    <tr>\n",
       "      <th>98</th>\n",
       "      <td>2021-07-01</td>\n",
       "      <td>4.289564</td>\n",
       "    </tr>\n",
       "    <tr>\n",
       "      <th>99</th>\n",
       "      <td>2021-10-01</td>\n",
       "      <td>4.296897</td>\n",
       "    </tr>\n",
       "  </tbody>\n",
       "</table>\n",
       "<p>100 rows × 2 columns</p>\n",
       "</div>"
      ],
      "text/plain": [
       "         DATE   Log_GDP\n",
       "0  1997-01-01  4.052758\n",
       "1  1997-04-01  4.059917\n",
       "2  1997-07-01  4.065315\n",
       "3  1997-10-01  4.069028\n",
       "4  1998-01-01  4.073347\n",
       "..        ...       ...\n",
       "95 2020-10-01  4.273413\n",
       "96 2021-01-01  4.280024\n",
       "97 2021-04-01  4.287092\n",
       "98 2021-07-01  4.289564\n",
       "99 2021-10-01  4.296897\n",
       "\n",
       "[100 rows x 2 columns]"
      ]
     },
     "execution_count": 56,
     "metadata": {},
     "output_type": "execute_result"
    }
   ],
   "source": [
    "test_data1"
   ]
  },
  {
   "cell_type": "code",
   "execution_count": 67,
   "metadata": {},
   "outputs": [
    {
     "ename": "KeyError",
     "evalue": "\"None of ['date'] are in the columns\"",
     "output_type": "error",
     "traceback": [
      "\u001b[0;31m---------------------------------------------------------------------------\u001b[0m",
      "\u001b[0;31mKeyError\u001b[0m                                  Traceback (most recent call last)",
      "\u001b[0;32m<ipython-input-67-e621bbb0018f>\u001b[0m in \u001b[0;36m<module>\u001b[0;34m\u001b[0m\n\u001b[0;32m----> 1\u001b[0;31m \u001b[0mnew\u001b[0m\u001b[0;34m=\u001b[0m\u001b[0mnew\u001b[0m\u001b[0;34m.\u001b[0m\u001b[0mset_index\u001b[0m\u001b[0;34m(\u001b[0m\u001b[0;34m'date'\u001b[0m\u001b[0;34m)\u001b[0m\u001b[0;34m\u001b[0m\u001b[0;34m\u001b[0m\u001b[0m\n\u001b[0m",
      "\u001b[0;32m/opt/anaconda3/lib/python3.8/site-packages/pandas/core/frame.py\u001b[0m in \u001b[0;36mset_index\u001b[0;34m(self, keys, drop, append, inplace, verify_integrity)\u001b[0m\n\u001b[1;32m   4725\u001b[0m \u001b[0;34m\u001b[0m\u001b[0m\n\u001b[1;32m   4726\u001b[0m         \u001b[0;32mif\u001b[0m \u001b[0mmissing\u001b[0m\u001b[0;34m:\u001b[0m\u001b[0;34m\u001b[0m\u001b[0;34m\u001b[0m\u001b[0m\n\u001b[0;32m-> 4727\u001b[0;31m             \u001b[0;32mraise\u001b[0m \u001b[0mKeyError\u001b[0m\u001b[0;34m(\u001b[0m\u001b[0;34mf\"None of {missing} are in the columns\"\u001b[0m\u001b[0;34m)\u001b[0m\u001b[0;34m\u001b[0m\u001b[0;34m\u001b[0m\u001b[0m\n\u001b[0m\u001b[1;32m   4728\u001b[0m \u001b[0;34m\u001b[0m\u001b[0m\n\u001b[1;32m   4729\u001b[0m         \u001b[0;32mif\u001b[0m \u001b[0minplace\u001b[0m\u001b[0;34m:\u001b[0m\u001b[0;34m\u001b[0m\u001b[0;34m\u001b[0m\u001b[0m\n",
      "\u001b[0;31mKeyError\u001b[0m: \"None of ['date'] are in the columns\""
     ]
    }
   ],
   "source": [
    "new=new.set_index('date')\n"
   ]
  },
  {
   "cell_type": "code",
   "execution_count": 65,
   "metadata": {},
   "outputs": [],
   "source": [
    "test_data1=test_data1.set_index('DATE')"
   ]
  },
  {
   "cell_type": "code",
   "execution_count": 66,
   "metadata": {},
   "outputs": [
    {
     "data": {
      "image/png": "[encoded data removed]",
      "text/plain": [
       "<Figure size 864x576 with 1 Axes>"
      ]
     },
     "metadata": {
      "needs_background": "light"
     },
     "output_type": "display_data"
    }
   ],
   "source": [
    "# Plot the prediction vs test data\n",
    "\n",
    "fig = plt.subplots(figsize=(12,8))\n",
    "plt.plot(new, color=\"green\")\n",
    "plt.plot(test_data1,color=\"blue\")\n",
    "plt.show()"
   ]
  }
 ],
 "metadata": {
  "kernelspec": {
   "display_name": "Python 3",
   "language": "python",
   "name": "python3"
  },
  "language_info": {
   "codemirror_mode": {
    "name": "ipython",
    "version": 3
   },
   "file_extension": ".py",
   "mimetype": "text/x-python",
   "name": "python",
   "nbconvert_exporter": "python",
   "pygments_lexer": "ipython3",
   "version": "3.8.5"
  }
 },
 "nbformat": 4,
 "nbformat_minor": 5
}
