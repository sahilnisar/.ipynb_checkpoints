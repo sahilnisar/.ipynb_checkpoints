{
 "cells": [
  {
   "cell_type": "markdown",
   "metadata": {},
   "source": [
    "### GDP Forecasting using the K-Nearest Neighbor Approach"
   ]
  },
  {
   "cell_type": "code",
   "execution_count": 45,
   "metadata": {},
   "outputs": [],
   "source": [
    "import pandas as pd\n",
    "import numpy as np\n",
    "import matplotlib.pyplot as plt\n",
    "from statsmodels.tsa.stattools import adfuller\n",
    "from pandas.plotting import autocorrelation_plot\n",
    "from statsmodels.tsa.arima.model import ARIMA\n",
    "from sklearn.metrics import mean_squared_error\n",
    "from sklearn.model_selection import train_test_split\n",
    "from math import sqrt"
   ]
  },
  {
   "cell_type": "code",
   "execution_count": 3,
   "metadata": {},
   "outputs": [],
   "source": [
    "df = pd.read_csv(r'C:\\Users\\adim\\Desktop\\Special Project in Economic Research\\Data\\US_Forecasting_Data_1972_2021.csv', index_col=0)"
   ]
  },
  {
   "cell_type": "markdown",
   "metadata": {},
   "source": [
    "##### Data used for the purpose of this analysis is as follows:\n",
    "##### 1) GDP Growth Rate\n",
    "##### 2) Unemployment Rate\n",
    "##### 3) Short-term interest rates(3-Month treasury bills)\n",
    "##### 4) Long-term interest rates (10-year Government Bond)\n",
    "##### 5) Consumer Price Index\n",
    "##### 6) Maunfacturing Utilization \n",
    "##### 7) Federal Funds Rate (Proxy for Monetary Policy)"
   ]
  },
  {
   "cell_type": "code",
   "execution_count": 4,
   "metadata": {},
   "outputs": [
    {
     "data": {
      "text/html": [
       "<div>\n",
       "<style scoped>\n",
       "    .dataframe tbody tr th:only-of-type {\n",
       "        vertical-align: middle;\n",
       "    }\n",
       "\n",
       "    .dataframe tbody tr th {\n",
       "        vertical-align: top;\n",
       "    }\n",
       "\n",
       "    .dataframe thead th {\n",
       "        text-align: right;\n",
       "    }\n",
       "</style>\n",
       "<table border=\"1\" class=\"dataframe\">\n",
       "  <thead>\n",
       "    <tr style=\"text-align: right;\">\n",
       "      <th></th>\n",
       "      <th>log_gdp</th>\n",
       "      <th>dlog_gdp_yoy</th>\n",
       "      <th>unemp</th>\n",
       "      <th>3m_tbill</th>\n",
       "      <th>d3m_tbill</th>\n",
       "      <th>fedfund</th>\n",
       "      <th>dfed_fund</th>\n",
       "      <th>cpi</th>\n",
       "      <th>dcpi</th>\n",
       "      <th>manu_utilization</th>\n",
       "      <th>10y_bond</th>\n",
       "      <th>d10y_bond</th>\n",
       "    </tr>\n",
       "    <tr>\n",
       "      <th>date</th>\n",
       "      <th></th>\n",
       "      <th></th>\n",
       "      <th></th>\n",
       "      <th></th>\n",
       "      <th></th>\n",
       "      <th></th>\n",
       "      <th></th>\n",
       "      <th></th>\n",
       "      <th></th>\n",
       "      <th></th>\n",
       "      <th></th>\n",
       "      <th></th>\n",
       "    </tr>\n",
       "  </thead>\n",
       "  <tbody>\n",
       "    <tr>\n",
       "      <th>1/1/1972</th>\n",
       "      <td>3.720104</td>\n",
       "      <td>NaN</td>\n",
       "      <td>5.766667</td>\n",
       "      <td>3.436667</td>\n",
       "      <td>NaN</td>\n",
       "      <td>3.546667</td>\n",
       "      <td>NaN</td>\n",
       "      <td>6.033333</td>\n",
       "      <td>NaN</td>\n",
       "      <td>81.732967</td>\n",
       "      <td>6.033333</td>\n",
       "      <td>NaN</td>\n",
       "    </tr>\n",
       "    <tr>\n",
       "      <th>4/1/1972</th>\n",
       "      <td>3.729852</td>\n",
       "      <td>NaN</td>\n",
       "      <td>5.700000</td>\n",
       "      <td>3.770000</td>\n",
       "      <td>0.333333</td>\n",
       "      <td>4.300000</td>\n",
       "      <td>0.753333</td>\n",
       "      <td>6.143333</td>\n",
       "      <td>0.110000</td>\n",
       "      <td>82.782533</td>\n",
       "      <td>6.143333</td>\n",
       "      <td>0.110000</td>\n",
       "    </tr>\n",
       "    <tr>\n",
       "      <th>7/1/1972</th>\n",
       "      <td>3.733934</td>\n",
       "      <td>NaN</td>\n",
       "      <td>5.566667</td>\n",
       "      <td>4.220000</td>\n",
       "      <td>0.450000</td>\n",
       "      <td>4.743333</td>\n",
       "      <td>0.443333</td>\n",
       "      <td>6.290000</td>\n",
       "      <td>0.146667</td>\n",
       "      <td>83.246700</td>\n",
       "      <td>6.290000</td>\n",
       "      <td>0.146667</td>\n",
       "    </tr>\n",
       "    <tr>\n",
       "      <th>10/1/1972</th>\n",
       "      <td>3.741146</td>\n",
       "      <td>NaN</td>\n",
       "      <td>5.366667</td>\n",
       "      <td>4.863333</td>\n",
       "      <td>0.643333</td>\n",
       "      <td>5.146667</td>\n",
       "      <td>0.403333</td>\n",
       "      <td>6.373333</td>\n",
       "      <td>0.083333</td>\n",
       "      <td>85.669767</td>\n",
       "      <td>6.373333</td>\n",
       "      <td>0.083333</td>\n",
       "    </tr>\n",
       "    <tr>\n",
       "      <th>1/1/1973</th>\n",
       "      <td>3.751763</td>\n",
       "      <td>0.031658</td>\n",
       "      <td>4.933333</td>\n",
       "      <td>5.700000</td>\n",
       "      <td>0.836667</td>\n",
       "      <td>6.536667</td>\n",
       "      <td>1.390000</td>\n",
       "      <td>6.603333</td>\n",
       "      <td>0.230000</td>\n",
       "      <td>87.702233</td>\n",
       "      <td>6.603333</td>\n",
       "      <td>0.230000</td>\n",
       "    </tr>\n",
       "    <tr>\n",
       "      <th>...</th>\n",
       "      <td>...</td>\n",
       "      <td>...</td>\n",
       "      <td>...</td>\n",
       "      <td>...</td>\n",
       "      <td>...</td>\n",
       "      <td>...</td>\n",
       "      <td>...</td>\n",
       "      <td>...</td>\n",
       "      <td>...</td>\n",
       "      <td>...</td>\n",
       "      <td>...</td>\n",
       "      <td>...</td>\n",
       "    </tr>\n",
       "    <tr>\n",
       "      <th>10/1/2020</th>\n",
       "      <td>4.273413</td>\n",
       "      <td>-0.009941</td>\n",
       "      <td>6.766667</td>\n",
       "      <td>0.093333</td>\n",
       "      <td>-0.020000</td>\n",
       "      <td>0.090000</td>\n",
       "      <td>-0.003333</td>\n",
       "      <td>0.863333</td>\n",
       "      <td>0.213333</td>\n",
       "      <td>74.182667</td>\n",
       "      <td>0.863333</td>\n",
       "      <td>0.213333</td>\n",
       "    </tr>\n",
       "    <tr>\n",
       "      <th>1/1/2021</th>\n",
       "      <td>4.280024</td>\n",
       "      <td>0.002369</td>\n",
       "      <td>6.200000</td>\n",
       "      <td>0.050000</td>\n",
       "      <td>-0.043333</td>\n",
       "      <td>0.080000</td>\n",
       "      <td>-0.010000</td>\n",
       "      <td>1.316667</td>\n",
       "      <td>0.453333</td>\n",
       "      <td>74.733533</td>\n",
       "      <td>1.316667</td>\n",
       "      <td>0.453333</td>\n",
       "    </tr>\n",
       "    <tr>\n",
       "      <th>4/1/2021</th>\n",
       "      <td>4.287092</td>\n",
       "      <td>0.050096</td>\n",
       "      <td>5.900000</td>\n",
       "      <td>0.026667</td>\n",
       "      <td>-0.023333</td>\n",
       "      <td>0.070000</td>\n",
       "      <td>-0.010000</td>\n",
       "      <td>1.593333</td>\n",
       "      <td>0.276667</td>\n",
       "      <td>75.761367</td>\n",
       "      <td>1.593333</td>\n",
       "      <td>0.276667</td>\n",
       "    </tr>\n",
       "    <tr>\n",
       "      <th>7/1/2021</th>\n",
       "      <td>4.289564</td>\n",
       "      <td>0.020968</td>\n",
       "      <td>5.100000</td>\n",
       "      <td>0.046667</td>\n",
       "      <td>0.020000</td>\n",
       "      <td>0.090000</td>\n",
       "      <td>0.020000</td>\n",
       "      <td>1.323333</td>\n",
       "      <td>-0.270000</td>\n",
       "      <td>76.384367</td>\n",
       "      <td>1.323333</td>\n",
       "      <td>-0.270000</td>\n",
       "    </tr>\n",
       "    <tr>\n",
       "      <th>10/1/2021</th>\n",
       "      <td>4.296897</td>\n",
       "      <td>0.023484</td>\n",
       "      <td>4.233333</td>\n",
       "      <td>0.053333</td>\n",
       "      <td>0.006667</td>\n",
       "      <td>0.080000</td>\n",
       "      <td>-0.010000</td>\n",
       "      <td>1.536667</td>\n",
       "      <td>0.213333</td>\n",
       "      <td>77.360567</td>\n",
       "      <td>1.536667</td>\n",
       "      <td>0.213333</td>\n",
       "    </tr>\n",
       "  </tbody>\n",
       "</table>\n",
       "<p>200 rows × 12 columns</p>\n",
       "</div>"
      ],
      "text/plain": [
       "            log_gdp  dlog_gdp_yoy     unemp  3m_tbill  d3m_tbill   fedfund  \\\n",
       "date                                                                         \n",
       "1/1/1972   3.720104           NaN  5.766667  3.436667        NaN  3.546667   \n",
       "4/1/1972   3.729852           NaN  5.700000  3.770000   0.333333  4.300000   \n",
       "7/1/1972   3.733934           NaN  5.566667  4.220000   0.450000  4.743333   \n",
       "10/1/1972  3.741146           NaN  5.366667  4.863333   0.643333  5.146667   \n",
       "1/1/1973   3.751763      0.031658  4.933333  5.700000   0.836667  6.536667   \n",
       "...             ...           ...       ...       ...        ...       ...   \n",
       "10/1/2020  4.273413     -0.009941  6.766667  0.093333  -0.020000  0.090000   \n",
       "1/1/2021   4.280024      0.002369  6.200000  0.050000  -0.043333  0.080000   \n",
       "4/1/2021   4.287092      0.050096  5.900000  0.026667  -0.023333  0.070000   \n",
       "7/1/2021   4.289564      0.020968  5.100000  0.046667   0.020000  0.090000   \n",
       "10/1/2021  4.296897      0.023484  4.233333  0.053333   0.006667  0.080000   \n",
       "\n",
       "           dfed_fund       cpi      dcpi  manu_utilization  10y_bond  \\\n",
       "date                                                                   \n",
       "1/1/1972         NaN  6.033333       NaN         81.732967  6.033333   \n",
       "4/1/1972    0.753333  6.143333  0.110000         82.782533  6.143333   \n",
       "7/1/1972    0.443333  6.290000  0.146667         83.246700  6.290000   \n",
       "10/1/1972   0.403333  6.373333  0.083333         85.669767  6.373333   \n",
       "1/1/1973    1.390000  6.603333  0.230000         87.702233  6.603333   \n",
       "...              ...       ...       ...               ...       ...   \n",
       "10/1/2020  -0.003333  0.863333  0.213333         74.182667  0.863333   \n",
       "1/1/2021   -0.010000  1.316667  0.453333         74.733533  1.316667   \n",
       "4/1/2021   -0.010000  1.593333  0.276667         75.761367  1.593333   \n",
       "7/1/2021    0.020000  1.323333 -0.270000         76.384367  1.323333   \n",
       "10/1/2021  -0.010000  1.536667  0.213333         77.360567  1.536667   \n",
       "\n",
       "           d10y_bond  \n",
       "date                  \n",
       "1/1/1972         NaN  \n",
       "4/1/1972    0.110000  \n",
       "7/1/1972    0.146667  \n",
       "10/1/1972   0.083333  \n",
       "1/1/1973    0.230000  \n",
       "...              ...  \n",
       "10/1/2020   0.213333  \n",
       "1/1/2021    0.453333  \n",
       "4/1/2021    0.276667  \n",
       "7/1/2021   -0.270000  \n",
       "10/1/2021   0.213333  \n",
       "\n",
       "[200 rows x 12 columns]"
      ]
     },
     "execution_count": 4,
     "metadata": {},
     "output_type": "execute_result"
    }
   ],
   "source": [
    "df"
   ]
  },
  {
   "cell_type": "markdown",
   "metadata": {},
   "source": [
    "#### We believe that the rest of the variables might be good indicators to forecast GDP."
   ]
  },
  {
   "cell_type": "markdown",
   "metadata": {},
   "source": [
    "#### But before we delve into our analysis, we have again made sure that our series are stationary. For that reason, we have looked at the levels of the series, conducted dicky-fuller test and then taken the first differences where required."
   ]
  },
  {
   "cell_type": "code",
   "execution_count": 5,
   "metadata": {},
   "outputs": [
    {
     "data": {
      "text/plain": [
       "[<matplotlib.lines.Line2D at 0x21524341e50>]"
      ]
     },
     "execution_count": 5,
     "metadata": {},
     "output_type": "execute_result"
    },
    {
     "data": {
      "image/png": "[encoded data removed]",
      "text/plain": [
       "<Figure size 432x288 with 1 Axes>"
      ]
     },
     "metadata": {
      "needs_background": "light"
     },
     "output_type": "display_data"
    }
   ],
   "source": [
    "plt.plot(df['dlog_gdp_yoy'])"
   ]
  },
  {
   "cell_type": "code",
   "execution_count": 6,
   "metadata": {},
   "outputs": [
    {
     "data": {
      "text/plain": [
       "(-3.367267081930851,\n",
       " 0.012126651180138549,\n",
       " 0,\n",
       " 199,\n",
       " {'1%': -3.4636447617687436,\n",
       "  '5%': -2.8761761179270766,\n",
       "  '10%': -2.57457158581854},\n",
       " 441.9842277631707)"
      ]
     },
     "execution_count": 6,
     "metadata": {},
     "output_type": "execute_result"
    }
   ],
   "source": [
    "adfuller(df['unemp'])"
   ]
  },
  {
   "cell_type": "code",
   "execution_count": 7,
   "metadata": {},
   "outputs": [
    {
     "data": {
      "text/plain": [
       "(-5.122138365777608,\n",
       " 1.2651002017360647e-05,\n",
       " 14,\n",
       " 184,\n",
       " {'1%': -3.466398230774071,\n",
       "  '5%': -2.8773796387256514,\n",
       "  '10%': -2.575213838610586},\n",
       " 342.23586291956434)"
      ]
     },
     "execution_count": 7,
     "metadata": {},
     "output_type": "execute_result"
    }
   ],
   "source": [
    "adfuller(df['d3m_tbill'].iloc[1:])"
   ]
  },
  {
   "cell_type": "code",
   "execution_count": 8,
   "metadata": {},
   "outputs": [
    {
     "data": {
      "text/plain": [
       "[<matplotlib.lines.Line2D at 0x2152482b8b0>]"
      ]
     },
     "execution_count": 8,
     "metadata": {},
     "output_type": "execute_result"
    },
    {
     "data": {
      "image/png": "[encoded data removed]",
      "text/plain": [
       "<Figure size 432x288 with 1 Axes>"
      ]
     },
     "metadata": {
      "needs_background": "light"
     },
     "output_type": "display_data"
    }
   ],
   "source": [
    "plt.plot(df['d3m_tbill'])"
   ]
  },
  {
   "cell_type": "code",
   "execution_count": 9,
   "metadata": {},
   "outputs": [
    {
     "data": {
      "text/plain": [
       "[<matplotlib.lines.Line2D at 0x21526363ca0>]"
      ]
     },
     "execution_count": 9,
     "metadata": {},
     "output_type": "execute_result"
    },
    {
     "data": {
      "image/png": "[encoded data removed]",
      "text/plain": [
       "<Figure size 432x288 with 1 Axes>"
      ]
     },
     "metadata": {
      "needs_background": "light"
     },
     "output_type": "display_data"
    }
   ],
   "source": [
    "plt.plot(df['dfed_fund'].iloc[1:])"
   ]
  },
  {
   "cell_type": "code",
   "execution_count": 10,
   "metadata": {},
   "outputs": [
    {
     "data": {
      "text/plain": [
       "(-6.278199349467079,\n",
       " 3.853902532911971e-08,\n",
       " 6,\n",
       " 192,\n",
       " {'1%': -3.4648754262570978,\n",
       "  '5%': -2.876714157488788,\n",
       "  '10%': -2.574858699001736},\n",
       " 441.28381782221527)"
      ]
     },
     "execution_count": 10,
     "metadata": {},
     "output_type": "execute_result"
    }
   ],
   "source": [
    "adfuller(df['dfed_fund'].iloc[1:])"
   ]
  },
  {
   "cell_type": "code",
   "execution_count": 11,
   "metadata": {},
   "outputs": [
    {
     "data": {
      "text/plain": [
       "(-6.571806344884303,\n",
       " 7.901880384407692e-09,\n",
       " 6,\n",
       " 192,\n",
       " {'1%': -3.4648754262570978,\n",
       "  '5%': -2.876714157488788,\n",
       "  '10%': -2.574858699001736},\n",
       " 259.99727865392833)"
      ]
     },
     "execution_count": 11,
     "metadata": {},
     "output_type": "execute_result"
    }
   ],
   "source": [
    "adfuller(df['dcpi'].iloc[1:])"
   ]
  },
  {
   "cell_type": "code",
   "execution_count": 12,
   "metadata": {},
   "outputs": [
    {
     "data": {
      "text/plain": [
       "(-3.614218792676585,\n",
       " 0.005494941472165006,\n",
       " 2,\n",
       " 197,\n",
       " {'1%': -3.463987334463603,\n",
       "  '5%': -2.8763259091636213,\n",
       "  '10%': -2.5746515171738515},\n",
       " 651.704875637043)"
      ]
     },
     "execution_count": 12,
     "metadata": {},
     "output_type": "execute_result"
    }
   ],
   "source": [
    "adfuller(df['manu_utilization'])"
   ]
  },
  {
   "cell_type": "code",
   "execution_count": 13,
   "metadata": {},
   "outputs": [
    {
     "data": {
      "text/plain": [
       "(-6.571806344884303,\n",
       " 7.901880384407692e-09,\n",
       " 6,\n",
       " 192,\n",
       " {'1%': -3.4648754262570978,\n",
       "  '5%': -2.876714157488788,\n",
       "  '10%': -2.574858699001736},\n",
       " 259.99727865392833)"
      ]
     },
     "execution_count": 13,
     "metadata": {},
     "output_type": "execute_result"
    }
   ],
   "source": [
    "adfuller(df['d10y_bond'].iloc[1:])"
   ]
  },
  {
   "cell_type": "code",
   "execution_count": 17,
   "metadata": {},
   "outputs": [
    {
     "data": {
      "text/plain": [
       "[<matplotlib.lines.Line2D at 0x215277613d0>]"
      ]
     },
     "execution_count": 17,
     "metadata": {},
     "output_type": "execute_result"
    },
    {
     "data": {
      "image/png": "[encoded data removed]",
      "text/plain": [
       "<Figure size 432x288 with 1 Axes>"
      ]
     },
     "metadata": {
      "needs_background": "light"
     },
     "output_type": "display_data"
    }
   ],
   "source": [
    "plt.plot(df['unemp'])"
   ]
  },
  {
   "cell_type": "code",
   "execution_count": 14,
   "metadata": {},
   "outputs": [
    {
     "name": "stderr",
     "output_type": "stream",
     "text": [
      "F:\\Anaconda\\lib\\site-packages\\statsmodels\\tsa\\base\\tsa_model.py:524: ValueWarning: No frequency information was provided, so inferred frequency QS-OCT will be used.\n",
      "  warnings.warn('No frequency information was'\n",
      "F:\\Anaconda\\lib\\site-packages\\statsmodels\\tsa\\base\\tsa_model.py:524: ValueWarning: No frequency information was provided, so inferred frequency QS-OCT will be used.\n",
      "  warnings.warn('No frequency information was'\n",
      "F:\\Anaconda\\lib\\site-packages\\statsmodels\\tsa\\base\\tsa_model.py:524: ValueWarning: No frequency information was provided, so inferred frequency QS-OCT will be used.\n",
      "  warnings.warn('No frequency information was'\n"
     ]
    },
    {
     "name": "stdout",
     "output_type": "stream",
     "text": [
      "                               SARIMAX Results                                \n",
      "==============================================================================\n",
      "Dep. Variable:                log_gdp   No. Observations:                  200\n",
      "Model:                 ARIMA(5, 1, 0)   Log Likelihood                 761.384\n",
      "Date:                Thu, 03 Mar 2022   AIC                          -1510.767\n",
      "Time:                        14:35:49   BIC                          -1491.007\n",
      "Sample:                    01-01-1972   HQIC                         -1502.770\n",
      "                         - 10-01-2021                                         \n",
      "Covariance Type:                  opg                                         \n",
      "==============================================================================\n",
      "                 coef    std err          z      P>|z|      [0.025      0.975]\n",
      "------------------------------------------------------------------------------\n",
      "ar.L1          0.0973      0.024      4.023      0.000       0.050       0.145\n",
      "ar.L2          0.1738      0.058      3.000      0.003       0.060       0.287\n",
      "ar.L3          0.1355      0.071      1.898      0.058      -0.004       0.275\n",
      "ar.L4          0.0771      0.090      0.860      0.390      -0.099       0.253\n",
      "ar.L5          0.1258      0.119      1.055      0.291      -0.108       0.359\n",
      "sigma2      2.771e-05   9.15e-07     30.288      0.000    2.59e-05    2.95e-05\n",
      "===================================================================================\n",
      "Ljung-Box (L1) (Q):                   0.48   Jarque-Bera (JB):              8451.98\n",
      "Prob(Q):                              0.49   Prob(JB):                         0.00\n",
      "Heteroskedasticity (H):               2.38   Skew:                            -1.36\n",
      "Prob(H) (two-sided):                  0.00   Kurtosis:                        34.81\n",
      "===================================================================================\n",
      "\n",
      "Warnings:\n",
      "[1] Covariance matrix calculated using the outer product of gradients (complex-step).\n"
     ]
    }
   ],
   "source": [
    "model = ARIMA(df['log_gdp'], order=(5,1,0))\n",
    "model_fit = model.fit()\n",
    "print(model_fit.summary())\n"
   ]
  },
  {
   "cell_type": "code",
   "execution_count": 40,
   "metadata": {},
   "outputs": [
    {
     "data": {
      "text/plain": [
       "date\n",
       "1/1/1973     0.031658\n",
       "4/1/1973     0.026614\n",
       "7/1/1973     0.020241\n",
       "10/1/1973    0.017133\n",
       "1/1/1974     0.002765\n",
       "               ...   \n",
       "10/1/2020   -0.009941\n",
       "1/1/2021     0.002369\n",
       "4/1/2021     0.050096\n",
       "7/1/2021     0.020968\n",
       "10/1/2021    0.023484\n",
       "Name: dlog_gdp_yoy, Length: 196, dtype: float64"
      ]
     },
     "execution_count": 40,
     "metadata": {},
     "output_type": "execute_result"
    }
   ],
   "source": [
    "X=df.drop([\"log_gdp\", \"3m_tbill\", \"fedfund\", \"cpi\", \"10y_bond\", \"dlog_gdp_yoy\"] , axis=1)\n",
    "X=X.iloc[4:].values\n",
    "y=df['dlog_gdp_yoy'].iloc[4:]\n",
    "y"
   ]
  },
  {
   "cell_type": "code",
   "execution_count": 60,
   "metadata": {},
   "outputs": [],
   "source": [
    "X_train, X_test, y_train, y_test = train_test_split(X, y, shuffle=False)"
   ]
  },
  {
   "cell_type": "code",
   "execution_count": 62,
   "metadata": {},
   "outputs": [
    {
     "name": "stdout",
     "output_type": "stream",
     "text": [
      "[-7.38896933e-03 -4.02787367e-03  5.24316567e-03 -2.04840000e-05\n",
      "  5.05591000e-04  6.54749367e-03  2.60152733e-03  1.58096293e-02\n",
      "  1.58096293e-02  1.58096293e-02  1.58096293e-02  1.58096293e-02\n",
      "  1.58096293e-02  1.58096293e-02  2.07459430e-02  1.67080677e-02\n",
      "  1.82610410e-02  1.26069790e-02  1.71404010e-02  1.57497943e-02\n",
      "  1.17298173e-02  1.59143757e-02  1.29558427e-02  1.57497943e-02\n",
      "  1.71404010e-02  1.71404010e-02  1.71404010e-02  1.72240747e-02\n",
      "  1.82610410e-02  1.71404010e-02  1.38862703e-02  1.57497943e-02\n",
      "  1.27759953e-02  1.32947720e-02  1.00824910e-02  1.00824910e-02\n",
      "  1.27759953e-02  1.40149443e-02  1.22520187e-02  1.22520187e-02\n",
      "  6.55716500e-03  1.07417233e-02 -1.53493323e-02 -7.35650833e-03\n",
      "  1.10540057e-02  1.68726490e-02  1.82610410e-02  1.17298173e-02\n",
      "  1.27759953e-02]\n"
     ]
    }
   ],
   "source": [
    "from sklearn.neighbors import KNeighborsRegressor\n",
    "knn_model = KNeighborsRegressor(n_neighbors=3)\n",
    "knn_model.fit(X_train, y_train)\n",
    "print(knn_model.predict(X_test))"
   ]
  },
  {
   "cell_type": "code",
   "execution_count": 78,
   "metadata": {},
   "outputs": [
    {
     "data": {
      "text/plain": [
       "0.00569008721730324"
      ]
     },
     "execution_count": 78,
     "metadata": {},
     "output_type": "execute_result"
    }
   ],
   "source": [
    "train_preds = knn_model.predict(X_train)\n",
    "mse = mean_squared_error(y_train, train_preds)\n",
    "rmse = sqrt(mse)\n",
    "rmse"
   ]
  },
  {
   "cell_type": "code",
   "execution_count": 77,
   "metadata": {},
   "outputs": [
    {
     "data": {
      "text/plain": [
       "0.010049527731178858"
      ]
     },
     "execution_count": 77,
     "metadata": {},
     "output_type": "execute_result"
    }
   ],
   "source": [
    "test_preds = knn_model.predict(X_test)\n",
    "mse = mean_squared_error(y_test, test_preds)\n",
    "rmse = sqrt(mse)\n",
    "rmse"
   ]
  },
  {
   "cell_type": "code",
   "execution_count": 80,
   "metadata": {},
   "outputs": [
    {
     "data": {
      "text/plain": [
       "0.678510153268048"
      ]
     },
     "execution_count": 80,
     "metadata": {},
     "output_type": "execute_result"
    }
   ],
   "source": [
    "knn_model.score(X_train, y_train)"
   ]
  },
  {
   "cell_type": "code",
   "execution_count": 81,
   "metadata": {},
   "outputs": [
    {
     "data": {
      "text/plain": [
       "0.1559446880726476"
      ]
     },
     "execution_count": 81,
     "metadata": {},
     "output_type": "execute_result"
    }
   ],
   "source": [
    "knn_model.score(X_test, y_test)"
   ]
  },
  {
   "cell_type": "code",
   "execution_count": 110,
   "metadata": {},
   "outputs": [],
   "source": [
    "test_results=pd.DataFrame(test_preds, y_test.index)\n",
    "test_results.columns=['Predictions']"
   ]
  },
  {
   "cell_type": "code",
   "execution_count": 109,
   "metadata": {},
   "outputs": [],
   "source": [
    "z=df['dlog_gdp_yoy'].iloc[151:]"
   ]
  },
  {
   "cell_type": "code",
   "execution_count": 114,
   "metadata": {},
   "outputs": [],
   "source": [
    "test_results['Actual'] = pd.Series(df['dlog_gdp_yoy'])"
   ]
  },
  {
   "cell_type": "code",
   "execution_count": 117,
   "metadata": {},
   "outputs": [],
   "source": [
    "test_results['error']=test_results['Actual']-test_results['Predictions']"
   ]
  },
  {
   "cell_type": "code",
   "execution_count": 118,
   "metadata": {},
   "outputs": [
    {
     "data": {
      "text/html": [
       "<div>\n",
       "<style scoped>\n",
       "    .dataframe tbody tr th:only-of-type {\n",
       "        vertical-align: middle;\n",
       "    }\n",
       "\n",
       "    .dataframe tbody tr th {\n",
       "        vertical-align: top;\n",
       "    }\n",
       "\n",
       "    .dataframe thead th {\n",
       "        text-align: right;\n",
       "    }\n",
       "</style>\n",
       "<table border=\"1\" class=\"dataframe\">\n",
       "  <thead>\n",
       "    <tr style=\"text-align: right;\">\n",
       "      <th></th>\n",
       "      <th>Predictions</th>\n",
       "      <th>Actual</th>\n",
       "      <th>error</th>\n",
       "    </tr>\n",
       "    <tr>\n",
       "      <th>date</th>\n",
       "      <th></th>\n",
       "      <th></th>\n",
       "      <th></th>\n",
       "    </tr>\n",
       "  </thead>\n",
       "  <tbody>\n",
       "    <tr>\n",
       "      <th>10/1/2009</th>\n",
       "      <td>-0.007389</td>\n",
       "      <td>0.000354</td>\n",
       "      <td>0.007743</td>\n",
       "    </tr>\n",
       "    <tr>\n",
       "      <th>1/1/2010</th>\n",
       "      <td>-0.004028</td>\n",
       "      <td>0.007613</td>\n",
       "      <td>0.011641</td>\n",
       "    </tr>\n",
       "    <tr>\n",
       "      <th>4/1/2010</th>\n",
       "      <td>0.005243</td>\n",
       "      <td>0.012531</td>\n",
       "      <td>0.007288</td>\n",
       "    </tr>\n",
       "    <tr>\n",
       "      <th>7/1/2010</th>\n",
       "      <td>-0.000020</td>\n",
       "      <td>0.014307</td>\n",
       "      <td>0.014328</td>\n",
       "    </tr>\n",
       "    <tr>\n",
       "      <th>10/1/2010</th>\n",
       "      <td>0.000506</td>\n",
       "      <td>0.011944</td>\n",
       "      <td>0.011439</td>\n",
       "    </tr>\n",
       "    <tr>\n",
       "      <th>1/1/2011</th>\n",
       "      <td>0.006547</td>\n",
       "      <td>0.008730</td>\n",
       "      <td>0.002183</td>\n",
       "    </tr>\n",
       "    <tr>\n",
       "      <th>4/1/2011</th>\n",
       "      <td>0.002602</td>\n",
       "      <td>0.007483</td>\n",
       "      <td>0.004881</td>\n",
       "    </tr>\n",
       "    <tr>\n",
       "      <th>7/1/2011</th>\n",
       "      <td>0.015810</td>\n",
       "      <td>0.003970</td>\n",
       "      <td>-0.011840</td>\n",
       "    </tr>\n",
       "    <tr>\n",
       "      <th>10/1/2011</th>\n",
       "      <td>0.015810</td>\n",
       "      <td>0.006563</td>\n",
       "      <td>-0.009247</td>\n",
       "    </tr>\n",
       "    <tr>\n",
       "      <th>1/1/2012</th>\n",
       "      <td>0.015810</td>\n",
       "      <td>0.011148</td>\n",
       "      <td>-0.004661</td>\n",
       "    </tr>\n",
       "    <tr>\n",
       "      <th>4/1/2012</th>\n",
       "      <td>0.015810</td>\n",
       "      <td>0.010189</td>\n",
       "      <td>-0.005621</td>\n",
       "    </tr>\n",
       "    <tr>\n",
       "      <th>7/1/2012</th>\n",
       "      <td>0.015810</td>\n",
       "      <td>0.011116</td>\n",
       "      <td>-0.004693</td>\n",
       "    </tr>\n",
       "    <tr>\n",
       "      <th>10/1/2012</th>\n",
       "      <td>0.015810</td>\n",
       "      <td>0.006749</td>\n",
       "      <td>-0.009061</td>\n",
       "    </tr>\n",
       "    <tr>\n",
       "      <th>1/1/2013</th>\n",
       "      <td>0.015810</td>\n",
       "      <td>0.006963</td>\n",
       "      <td>-0.008846</td>\n",
       "    </tr>\n",
       "    <tr>\n",
       "      <th>4/1/2013</th>\n",
       "      <td>0.020746</td>\n",
       "      <td>0.005593</td>\n",
       "      <td>-0.015153</td>\n",
       "    </tr>\n",
       "    <tr>\n",
       "      <th>7/1/2013</th>\n",
       "      <td>0.016708</td>\n",
       "      <td>0.008259</td>\n",
       "      <td>-0.008449</td>\n",
       "    </tr>\n",
       "    <tr>\n",
       "      <th>10/1/2013</th>\n",
       "      <td>0.018261</td>\n",
       "      <td>0.010860</td>\n",
       "      <td>-0.007401</td>\n",
       "    </tr>\n",
       "    <tr>\n",
       "      <th>1/1/2014</th>\n",
       "      <td>0.012607</td>\n",
       "      <td>0.005584</td>\n",
       "      <td>-0.007023</td>\n",
       "    </tr>\n",
       "    <tr>\n",
       "      <th>4/1/2014</th>\n",
       "      <td>0.017140</td>\n",
       "      <td>0.010520</td>\n",
       "      <td>-0.006620</td>\n",
       "    </tr>\n",
       "    <tr>\n",
       "      <th>7/1/2014</th>\n",
       "      <td>0.015750</td>\n",
       "      <td>0.012126</td>\n",
       "      <td>-0.003624</td>\n",
       "    </tr>\n",
       "    <tr>\n",
       "      <th>10/1/2014</th>\n",
       "      <td>0.011730</td>\n",
       "      <td>0.010994</td>\n",
       "      <td>-0.000736</td>\n",
       "    </tr>\n",
       "    <tr>\n",
       "      <th>1/1/2015</th>\n",
       "      <td>0.015914</td>\n",
       "      <td>0.016035</td>\n",
       "      <td>0.000121</td>\n",
       "    </tr>\n",
       "    <tr>\n",
       "      <th>4/1/2015</th>\n",
       "      <td>0.012956</td>\n",
       "      <td>0.013005</td>\n",
       "      <td>0.000049</td>\n",
       "    </tr>\n",
       "    <tr>\n",
       "      <th>7/1/2015</th>\n",
       "      <td>0.015750</td>\n",
       "      <td>0.009377</td>\n",
       "      <td>-0.006373</td>\n",
       "    </tr>\n",
       "    <tr>\n",
       "      <th>10/1/2015</th>\n",
       "      <td>0.017140</td>\n",
       "      <td>0.008066</td>\n",
       "      <td>-0.009074</td>\n",
       "    </tr>\n",
       "    <tr>\n",
       "      <th>1/1/2016</th>\n",
       "      <td>0.017140</td>\n",
       "      <td>0.007100</td>\n",
       "      <td>-0.010041</td>\n",
       "    </tr>\n",
       "    <tr>\n",
       "      <th>4/1/2016</th>\n",
       "      <td>0.017140</td>\n",
       "      <td>0.005899</td>\n",
       "      <td>-0.011241</td>\n",
       "    </tr>\n",
       "    <tr>\n",
       "      <th>7/1/2016</th>\n",
       "      <td>0.017224</td>\n",
       "      <td>0.007100</td>\n",
       "      <td>-0.010124</td>\n",
       "    </tr>\n",
       "    <tr>\n",
       "      <th>10/1/2016</th>\n",
       "      <td>0.018261</td>\n",
       "      <td>0.008618</td>\n",
       "      <td>-0.009643</td>\n",
       "    </tr>\n",
       "    <tr>\n",
       "      <th>1/1/2017</th>\n",
       "      <td>0.017140</td>\n",
       "      <td>0.008111</td>\n",
       "      <td>-0.009029</td>\n",
       "    </tr>\n",
       "    <tr>\n",
       "      <th>4/1/2017</th>\n",
       "      <td>0.013886</td>\n",
       "      <td>0.009224</td>\n",
       "      <td>-0.004662</td>\n",
       "    </tr>\n",
       "    <tr>\n",
       "      <th>7/1/2017</th>\n",
       "      <td>0.015750</td>\n",
       "      <td>0.009734</td>\n",
       "      <td>-0.006016</td>\n",
       "    </tr>\n",
       "    <tr>\n",
       "      <th>10/1/2017</th>\n",
       "      <td>0.012776</td>\n",
       "      <td>0.011646</td>\n",
       "      <td>-0.001130</td>\n",
       "    </tr>\n",
       "    <tr>\n",
       "      <th>1/1/2018</th>\n",
       "      <td>0.013295</td>\n",
       "      <td>0.012902</td>\n",
       "      <td>-0.000393</td>\n",
       "    </tr>\n",
       "    <tr>\n",
       "      <th>4/1/2018</th>\n",
       "      <td>0.010082</td>\n",
       "      <td>0.014084</td>\n",
       "      <td>0.004002</td>\n",
       "    </tr>\n",
       "    <tr>\n",
       "      <th>7/1/2018</th>\n",
       "      <td>0.010082</td>\n",
       "      <td>0.013060</td>\n",
       "      <td>0.002978</td>\n",
       "    </tr>\n",
       "    <tr>\n",
       "      <th>10/1/2018</th>\n",
       "      <td>0.012776</td>\n",
       "      <td>0.009963</td>\n",
       "      <td>-0.002813</td>\n",
       "    </tr>\n",
       "    <tr>\n",
       "      <th>1/1/2019</th>\n",
       "      <td>0.014015</td>\n",
       "      <td>0.009251</td>\n",
       "      <td>-0.004764</td>\n",
       "    </tr>\n",
       "    <tr>\n",
       "      <th>4/1/2019</th>\n",
       "      <td>0.012252</td>\n",
       "      <td>0.009075</td>\n",
       "      <td>-0.003177</td>\n",
       "    </tr>\n",
       "    <tr>\n",
       "      <th>7/1/2019</th>\n",
       "      <td>0.012252</td>\n",
       "      <td>0.009953</td>\n",
       "      <td>-0.002299</td>\n",
       "    </tr>\n",
       "    <tr>\n",
       "      <th>10/1/2019</th>\n",
       "      <td>0.006557</td>\n",
       "      <td>0.011018</td>\n",
       "      <td>0.004461</td>\n",
       "    </tr>\n",
       "    <tr>\n",
       "      <th>1/1/2020</th>\n",
       "      <td>0.010742</td>\n",
       "      <td>0.002731</td>\n",
       "      <td>-0.008011</td>\n",
       "    </tr>\n",
       "    <tr>\n",
       "      <th>4/1/2020</th>\n",
       "      <td>-0.015349</td>\n",
       "      <td>-0.041358</td>\n",
       "      <td>-0.026009</td>\n",
       "    </tr>\n",
       "    <tr>\n",
       "      <th>7/1/2020</th>\n",
       "      <td>-0.007357</td>\n",
       "      <td>-0.012725</td>\n",
       "      <td>-0.005368</td>\n",
       "    </tr>\n",
       "    <tr>\n",
       "      <th>10/1/2020</th>\n",
       "      <td>0.011054</td>\n",
       "      <td>-0.009941</td>\n",
       "      <td>-0.020995</td>\n",
       "    </tr>\n",
       "    <tr>\n",
       "      <th>1/1/2021</th>\n",
       "      <td>0.016873</td>\n",
       "      <td>0.002369</td>\n",
       "      <td>-0.014504</td>\n",
       "    </tr>\n",
       "    <tr>\n",
       "      <th>4/1/2021</th>\n",
       "      <td>0.018261</td>\n",
       "      <td>0.050096</td>\n",
       "      <td>0.031835</td>\n",
       "    </tr>\n",
       "    <tr>\n",
       "      <th>7/1/2021</th>\n",
       "      <td>0.011730</td>\n",
       "      <td>0.020968</td>\n",
       "      <td>0.009238</td>\n",
       "    </tr>\n",
       "    <tr>\n",
       "      <th>10/1/2021</th>\n",
       "      <td>0.012776</td>\n",
       "      <td>0.023484</td>\n",
       "      <td>0.010708</td>\n",
       "    </tr>\n",
       "  </tbody>\n",
       "</table>\n",
       "</div>"
      ],
      "text/plain": [
       "           Predictions    Actual     error\n",
       "date                                      \n",
       "10/1/2009    -0.007389  0.000354  0.007743\n",
       "1/1/2010     -0.004028  0.007613  0.011641\n",
       "4/1/2010      0.005243  0.012531  0.007288\n",
       "7/1/2010     -0.000020  0.014307  0.014328\n",
       "10/1/2010     0.000506  0.011944  0.011439\n",
       "1/1/2011      0.006547  0.008730  0.002183\n",
       "4/1/2011      0.002602  0.007483  0.004881\n",
       "7/1/2011      0.015810  0.003970 -0.011840\n",
       "10/1/2011     0.015810  0.006563 -0.009247\n",
       "1/1/2012      0.015810  0.011148 -0.004661\n",
       "4/1/2012      0.015810  0.010189 -0.005621\n",
       "7/1/2012      0.015810  0.011116 -0.004693\n",
       "10/1/2012     0.015810  0.006749 -0.009061\n",
       "1/1/2013      0.015810  0.006963 -0.008846\n",
       "4/1/2013      0.020746  0.005593 -0.015153\n",
       "7/1/2013      0.016708  0.008259 -0.008449\n",
       "10/1/2013     0.018261  0.010860 -0.007401\n",
       "1/1/2014      0.012607  0.005584 -0.007023\n",
       "4/1/2014      0.017140  0.010520 -0.006620\n",
       "7/1/2014      0.015750  0.012126 -0.003624\n",
       "10/1/2014     0.011730  0.010994 -0.000736\n",
       "1/1/2015      0.015914  0.016035  0.000121\n",
       "4/1/2015      0.012956  0.013005  0.000049\n",
       "7/1/2015      0.015750  0.009377 -0.006373\n",
       "10/1/2015     0.017140  0.008066 -0.009074\n",
       "1/1/2016      0.017140  0.007100 -0.010041\n",
       "4/1/2016      0.017140  0.005899 -0.011241\n",
       "7/1/2016      0.017224  0.007100 -0.010124\n",
       "10/1/2016     0.018261  0.008618 -0.009643\n",
       "1/1/2017      0.017140  0.008111 -0.009029\n",
       "4/1/2017      0.013886  0.009224 -0.004662\n",
       "7/1/2017      0.015750  0.009734 -0.006016\n",
       "10/1/2017     0.012776  0.011646 -0.001130\n",
       "1/1/2018      0.013295  0.012902 -0.000393\n",
       "4/1/2018      0.010082  0.014084  0.004002\n",
       "7/1/2018      0.010082  0.013060  0.002978\n",
       "10/1/2018     0.012776  0.009963 -0.002813\n",
       "1/1/2019      0.014015  0.009251 -0.004764\n",
       "4/1/2019      0.012252  0.009075 -0.003177\n",
       "7/1/2019      0.012252  0.009953 -0.002299\n",
       "10/1/2019     0.006557  0.011018  0.004461\n",
       "1/1/2020      0.010742  0.002731 -0.008011\n",
       "4/1/2020     -0.015349 -0.041358 -0.026009\n",
       "7/1/2020     -0.007357 -0.012725 -0.005368\n",
       "10/1/2020     0.011054 -0.009941 -0.020995\n",
       "1/1/2021      0.016873  0.002369 -0.014504\n",
       "4/1/2021      0.018261  0.050096  0.031835\n",
       "7/1/2021      0.011730  0.020968  0.009238\n",
       "10/1/2021     0.012776  0.023484  0.010708"
      ]
     },
     "execution_count": 118,
     "metadata": {},
     "output_type": "execute_result"
    }
   ],
   "source": [
    "test_results"
   ]
  },
  {
   "cell_type": "code",
   "execution_count": 174,
   "metadata": {},
   "outputs": [
    {
     "data": {
      "text/plain": [
       "Text(0, 0.5, 'GDP Growth Rate')"
      ]
     },
     "execution_count": 174,
     "metadata": {},
     "output_type": "execute_result"
    },
    {
     "data": {
      "image/png": "[encoded data removed]",
      "text/plain": [
       "<Figure size 864x432 with 1 Axes>"
      ]
     },
     "metadata": {
      "needs_background": "light"
     },
     "output_type": "display_data"
    }
   ],
   "source": [
    "fig, ax = plt.subplots(figsize=(12,6))\n",
    "ax.plot(test_results['Predictions'], label='Predictions')\n",
    "ax.plot(test_results['Actual'], label='Actual')\n",
    "start, end = ax.get_xlim()\n",
    "ax.xaxis.set_ticks(np.arange(start, end, 10))\n",
    "ax.legend()\n",
    "plt.title('KNN Predictions vs Actual')\n",
    "plt.xlabel('Quarters')\n",
    "plt.ylabel('GDP Growth Rate')"
   ]
  }
 ],
 "metadata": {
  "kernelspec": {
   "display_name": "Python 3",
   "language": "python",
   "name": "python3"
  },
  "language_info": {
   "codemirror_mode": {
    "name": "ipython",
    "version": 3
   },
   "file_extension": ".py",
   "mimetype": "text/x-python",
   "name": "python",
   "nbconvert_exporter": "python",
   "pygments_lexer": "ipython3",
   "version": "3.8.5"
  }
 },
 "nbformat": 4,
 "nbformat_minor": 4
}
